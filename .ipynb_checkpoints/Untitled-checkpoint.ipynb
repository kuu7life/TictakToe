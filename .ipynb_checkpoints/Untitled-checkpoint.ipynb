{
 "cells": [
  {
   "cell_type": "code",
   "execution_count": 32,
   "id": "7f7c4464",
   "metadata": {},
   "outputs": [],
   "source": [
    "from IPython.display import clear_output\n",
    "def display(listName):\n",
    "    clear_output()\n",
    "    print(listName[7] + \"|\" + listName[8] + \"|\" + listName[9])\n",
    "    print(listName[4] + \"|\" + listName[5] + \"|\" + listName[6])\n",
    "    print(listName[1] + \"|\" + listName[2] + \"|\" + listName[3])\n",
    "    "
   ]
  },
  {
   "cell_type": "code",
   "execution_count": 101,
   "id": "8da62244",
   "metadata": {},
   "outputs": [],
   "source": [
    "mylist = [' ']*10"
   ]
  },
  {
   "cell_type": "code",
   "execution_count": 102,
   "id": "939e3675",
   "metadata": {},
   "outputs": [
    {
     "name": "stdout",
     "output_type": "stream",
     "text": [
      " | | \n",
      " | | \n",
      " | | \n"
     ]
    }
   ],
   "source": [
    "display(mylist)"
   ]
  },
  {
   "cell_type": "code",
   "execution_count": 103,
   "id": "79f2e936",
   "metadata": {},
   "outputs": [],
   "source": [
    "def player_input():\n",
    "    marker = ' '\n",
    "    \n",
    "    while not (marker == 'X' or marker == 'O'):\n",
    "        marker = input(\"Player 1 , choose (X or O): \").upper()\n",
    "        \n",
    "    player1 = marker\n",
    "    \n",
    "    if player1 == 'X':\n",
    "        player2 = 'O'\n",
    "    else:\n",
    "        player2 = 'X'\n",
    "            \n",
    "    return (player1, player2)"
   ]
  },
  {
   "cell_type": "code",
   "execution_count": 104,
   "id": "925164b7",
   "metadata": {},
   "outputs": [
    {
     "name": "stdout",
     "output_type": "stream",
     "text": [
      "Player 1 , choose (X or O): o\n"
     ]
    },
    {
     "data": {
      "text/plain": [
       "('O', 'X')"
      ]
     },
     "execution_count": 104,
     "metadata": {},
     "output_type": "execute_result"
    }
   ],
   "source": [
    "player_input()"
   ]
  },
  {
   "cell_type": "code",
   "execution_count": 105,
   "id": "04a68c0f",
   "metadata": {},
   "outputs": [],
   "source": [
    "def place_marker(board,marker,position):\n",
    "    board[position] = marker\n",
    "    "
   ]
  },
  {
   "cell_type": "code",
   "execution_count": 125,
   "id": "a5106ccf",
   "metadata": {},
   "outputs": [],
   "source": [
    "place_marker(mylist,\"x\",3)\n"
   ]
  },
  {
   "cell_type": "code",
   "execution_count": 126,
   "id": "d7ed4460",
   "metadata": {},
   "outputs": [
    {
     "name": "stdout",
     "output_type": "stream",
     "text": [
      " | | \n",
      " | | \n",
      " | |x\n"
     ]
    }
   ],
   "source": [
    "display(mylist)"
   ]
  },
  {
   "cell_type": "code",
   "execution_count": 108,
   "id": "e758c007",
   "metadata": {},
   "outputs": [],
   "source": [
    "def win_check(board,mark):\n",
    "    return ((board[7] == mark and board[8] == mark and board[9] == mark) or # across the top\n",
    "    (board[4] == mark and board[5] == mark and board[6] == mark) or # across the middle\n",
    "    (board[1] == mark and board[2] == mark and board[3] == mark) or # across the bottom\n",
    "    (board[7] == mark and board[4] == mark and board[1] == mark) or # down the middle\n",
    "    (board[8] == mark and board[5] == mark and board[2] == mark) or # down the middle\n",
    "    (board[9] == mark and board[6] == mark and board[3] == mark) or # down the right side\n",
    "    (board[7] == mark and board[5] == mark and board[3] == mark) or # diagonal\n",
    "    (board[9] == mark and board[5] == mark and board[1] == mark)) # diagonal"
   ]
  },
  {
   "cell_type": "code",
   "execution_count": 109,
   "id": "97740760",
   "metadata": {},
   "outputs": [
    {
     "name": "stdout",
     "output_type": "stream",
     "text": [
      " | | \n",
      " | | \n",
      " | | \n"
     ]
    },
    {
     "data": {
      "text/plain": [
       "False"
      ]
     },
     "execution_count": 109,
     "metadata": {},
     "output_type": "execute_result"
    }
   ],
   "source": [
    "display(mylist)\n",
    "win_check(mylist,\"x\")"
   ]
  },
  {
   "cell_type": "code",
   "execution_count": 110,
   "id": "0d8932c5",
   "metadata": {},
   "outputs": [],
   "source": [
    "import random\n",
    "\n",
    "def choose_first():\n",
    "    if random.randint(0,1) == 0:\n",
    "        return \"Player 2\"\n",
    "    else:\n",
    "        return \"Player 1\"\n"
   ]
  },
  {
   "cell_type": "code",
   "execution_count": 111,
   "id": "e5e5f5b9",
   "metadata": {},
   "outputs": [
    {
     "data": {
      "text/plain": [
       "'Player 2'"
      ]
     },
     "execution_count": 111,
     "metadata": {},
     "output_type": "execute_result"
    }
   ],
   "source": [
    "choose_first()"
   ]
  },
  {
   "cell_type": "code",
   "execution_count": 112,
   "id": "c626320b",
   "metadata": {},
   "outputs": [],
   "source": [
    "def space_check(listName,position):\n",
    "    return listName[position] == \" \""
   ]
  },
  {
   "cell_type": "code",
   "execution_count": 113,
   "id": "07104b9d",
   "metadata": {},
   "outputs": [
    {
     "data": {
      "text/plain": [
       "True"
      ]
     },
     "execution_count": 113,
     "metadata": {},
     "output_type": "execute_result"
    }
   ],
   "source": [
    "space_check(mylist,2)"
   ]
  },
  {
   "cell_type": "code",
   "execution_count": 114,
   "id": "97bddb45",
   "metadata": {},
   "outputs": [],
   "source": [
    "def full_board_check(listName):\n",
    "    for i in range(1,10):\n",
    "        if space_check(listName,i):\n",
    "            return False\n",
    "        else:\n",
    "            pass\n",
    "    return True\n",
    "            "
   ]
  },
  {
   "cell_type": "code",
   "execution_count": 115,
   "id": "ea38382f",
   "metadata": {},
   "outputs": [
    {
     "data": {
      "text/plain": [
       "False"
      ]
     },
     "execution_count": 115,
     "metadata": {},
     "output_type": "execute_result"
    }
   ],
   "source": [
    "full_board_check(mylist)"
   ]
  },
  {
   "cell_type": "code",
   "execution_count": 118,
   "id": "dccead5a",
   "metadata": {},
   "outputs": [],
   "source": [
    "def player_choice(listName):\n",
    "    position = 0\n",
    "    while position not in [1,2,3,4,5,6,7,8,9] or not space_check(listName, position):\n",
    "        position = int(input(\"choose your next position (1,9): \"))\n",
    "    print(\"this position is taken\")\n",
    "    return position\n",
    "        \n",
    "    "
   ]
  },
  {
   "cell_type": "code",
   "execution_count": 120,
   "id": "b97bd187",
   "metadata": {},
   "outputs": [
    {
     "name": "stdout",
     "output_type": "stream",
     "text": [
      " | | \n",
      " | | \n",
      " | | \n"
     ]
    }
   ],
   "source": [
    "player_choice(mylist)\n",
    "display(mylist)"
   ]
  },
  {
   "cell_type": "code",
   "execution_count": 121,
   "id": "16fdde42",
   "metadata": {},
   "outputs": [],
   "source": [
    "def replay():\n",
    "    return input('Do you want to play again? Enter Yes or No: ').lower().startswith('y')"
   ]
  },
  {
   "cell_type": "code",
   "execution_count": 123,
   "id": "8ebbc154",
   "metadata": {},
   "outputs": [
    {
     "name": "stdout",
     "output_type": "stream",
     "text": [
      "Do you want to play again? Enter Yes or No: n\n"
     ]
    },
    {
     "data": {
      "text/plain": [
       "False"
      ]
     },
     "execution_count": 123,
     "metadata": {},
     "output_type": "execute_result"
    }
   ],
   "source": [
    "replay()"
   ]
  },
  {
   "cell_type": "code",
   "execution_count": null,
   "id": "fa8e52d9",
   "metadata": {},
   "outputs": [
    {
     "name": "stdout",
     "output_type": "stream",
     "text": [
      "O|X|X\n",
      "X|X|O\n",
      "O|O|X\n",
      "The game is a draw!\n"
     ]
    }
   ],
   "source": [
    "print(\"Welcome to Tik Tak Toe game\")\n",
    "\n",
    "while True:\n",
    "    mylist = [\" \"]*10\n",
    "    player1,player2 = player_input()\n",
    "    turn = choose_first()\n",
    "    print(turn + \" will go first\")\n",
    "    play_game = input('Are you ready to play? Enter Yes or No.: ')\n",
    "    \n",
    "    if play_game[0].lower() == 'y':\n",
    "        game_on = True\n",
    "    else:\n",
    "        game_on = False\n",
    "        \n",
    "    while game_on:\n",
    "        if turn == \"Player 1\":\n",
    "            display(mylist)\n",
    "            position = player_choice(mylist)\n",
    "            place_marker(mylist, player1, position)\n",
    "            \n",
    "            if win_check(mylist, player1):\n",
    "                display(mylist)\n",
    "                print(f'Congratulations! Player with({player1}) You have won the game!')\n",
    "                game_on = False\n",
    "            else:\n",
    "                if full_board_check(mylist):\n",
    "                    display(mylist)\n",
    "                    print('The game is a draw!')\n",
    "                    break\n",
    "                else:\n",
    "                    turn = 'Player 2'\n",
    "        else:\n",
    "            display(mylist)\n",
    "            position = player_choice(mylist)\n",
    "            place_marker(mylist, player2, position)\n",
    "            \n",
    "            if win_check(mylist, player2):\n",
    "                display(mylist)\n",
    "                print(f'Congratulations! Player with({player2}) You have won the game!')\n",
    "                game_on = False\n",
    "            else:\n",
    "                if full_board_check(mylist):\n",
    "                    display(mylist)\n",
    "                    print('The game is a draw!')\n",
    "                    break\n",
    "                else:\n",
    "                    turn = 'Player 1'\n",
    "    if not replay():\n",
    "        break\n",
    "            "
   ]
  },
  {
   "cell_type": "code",
   "execution_count": null,
   "id": "88cbfd7f",
   "metadata": {},
   "outputs": [],
   "source": []
  }
 ],
 "metadata": {
  "kernelspec": {
   "display_name": "Python 3 (ipykernel)",
   "language": "python",
   "name": "python3"
  },
  "language_info": {
   "codemirror_mode": {
    "name": "ipython",
    "version": 3
   },
   "file_extension": ".py",
   "mimetype": "text/x-python",
   "name": "python",
   "nbconvert_exporter": "python",
   "pygments_lexer": "ipython3",
   "version": "3.9.12"
  }
 },
 "nbformat": 4,
 "nbformat_minor": 5
}
